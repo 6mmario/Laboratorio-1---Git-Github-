{
 "cells": [
  {
   "cell_type": "markdown",
   "id": "6e04c848-fb94-49a6-a932-f1a56f516ac2",
   "metadata": {},
   "source": [
    "# Universidad Galileo\n",
    "## Mario Obed Morales Güitz\n",
    "## 24006981\n",
    "## Git & Github\n",
    "<br>"
   ]
  },
  {
   "cell_type": "markdown",
   "id": "3ec0be31-1883-433e-bbf7-58f21058957a",
   "metadata": {},
   "source": [
    "# GIT\n",
    "\n",
    "Git es un sistema de control de versiones diseñado para rastrear cambios en archivos y coordinar el trabajo en proyectos de programación colaborativa."
   ]
  },
  {
   "cell_type": "markdown",
   "id": "7aaf4492-9adb-48aa-8691-c3564e4fb1b7",
   "metadata": {},
   "source": [
    "## Sistema de Control de Versiones Distribuido (DVCS)\n",
    "\n",
    "Git realiza un seguimiento de los cambios en los archivos utilizando un sistema de snapshots (instantáneas) en lugar de un sistema de diferencias como otros sistemas de control de versiones, no tiene un único servidor que almacene la información. Cada usuario que participa en el proyecto tiene una copia completa del repositorio en su propio equipo. Esto permite:\n",
    "\n",
    "- **Colaboración sin conexión:** Trabajar en el proyecto sin necesidad de estar conectado a internet.\n",
    "\n",
    "- **Mayor seguridad:** El código fuente no se encuentra en un único punto vulnerable.\n",
    "\n",
    "- **Flujo de trabajo más eficiente:** Cada desarrollador puede trabajar en su propia copia del proyecto sin afectar el trabajo de los demás.\n",
    "\n",
    "## Características principales\n",
    "\n",
    "- **Sistema distribuido:** Cada repositorio Git es una copia completa de todo el historial de cambios y metadatos, lo que proporciona redundancia y resiliencia en caso de fallos en el servidor central o problemas de conectividad.\n",
    "\n",
    "- **Ramificación y fusión:** Git facilita la creación y gestión de ramas, lo que permite a los desarrolladores trabajar de forma independiente en nuevas características o correcciones de errores sin afectar la rama principal. La fusión de ramas se realiza de forma eficiente y Git intenta fusionar automáticamente los cambios siempre que sea posible, aunque a veces es necesario resolver conflictos manualmente.\n",
    "\n",
    "- **Repositorios remotos:** Git permite a los desarrolladores clonar repositorios existentes, colaborar con otros desarrolladores y mantener actualizadas sus copias locales con los cambios realizados en el repositorio remoto. Los servicios de alojamiento como GitHub, GitLab y Bitbucket proporcionan plataformas para almacenar y colaborar en repositorios Git de forma remota.\n",
    "\n",
    "- **Gestión de conflictos:** Cuando dos o más personas realizan cambios en la misma parte de un archivo, Git detecta un conflicto y marca el archivo para que el desarrollador pueda resolverlo manualmente. Git proporciona herramientas para comparar las diferentes versiones, elegir qué cambios conservar y fusionar los cambios de forma adecuada.\n",
    "\n",
    "- **Historia de cambios (log):** Git mantiene un registro detallado de todos los cambios realizados en un proyecto, incluyendo quién realizó cada cambio, cuándo se realizó y por qué. Esto permite a los desarrolladores rastrear la evolución del proyecto y revertir a versiones anteriores si es necesario.\n",
    "\n",
    "En otras palabras, podemos resaltar lo siguiente: \n",
    "\n",
    "1. **Registro de cambios:** Permite realizar un seguimiento de todas las modificaciones realizadas a los archivos a lo largo del tiempo.\n",
    "\n",
    "2. **Reversión de cambios:** Permite volver a una versión anterior del proyecto en caso de errores o problemas.\n",
    "\n",
    "3. **Ramificación (Branching):** Permite crear diferentes versiones del proyecto a partir de una misma base.\n",
    "\n",
    "4. **Fusión (Merging):** Permite combinar los cambios realizados en diferentes ramas del proyecto.\n",
    "\n",
    "5. **Resolución de conflictos:** Ofrece herramientas para solucionar los conflictos que puedan surgir al fusionar diferentes ramas.\n",
    "\n",
    "## Beneficios de usar Git\n",
    "\n",
    "Ofrece una serie de beneficios significativos para el desarrollo de software, incluido un historial completo de cambios que facilita el seguimiento y la reversión de versiones anteriores, la capacidad de trabajo colaborativo mediante ramificación y fusión, repositorios remotos que facilitan la colaboración entre equipos, velocidad y eficiencia en la gestión de versiones, gestión de conflictos eficaz y flexibilidad para adaptarse a diferentes flujos de trabajo y necesidades de desarrollo.\n",
    "\n",
    "- **Mejora la colaboración:** Facilita el trabajo en equipo y la comunicación entre los desarrolladores.\n",
    "\n",
    "- **Aumenta la eficiencia:** Permite trabajar de forma más organizada y eficiente.\n",
    "\n",
    "- **Reduce errores:** Facilita la detección y corrección de errores.\n",
    "\n",
    "- **Mejora la calidad del código:** Permite mantener un código más limpio y documentado.\n",
    "\n"
   ]
  },
  {
   "cell_type": "markdown",
   "id": "081cbab2-9454-4064-b1b5-8a0011c075b4",
   "metadata": {},
   "source": [
    "## Comandos de GIT\n",
    "\n",
    "### Comandos básicos:\n",
    "\n",
    "`git init`: Inicializa un repositorio Git en un directorio local.\n",
    "\n",
    "`git clone`: Clona un repositorio Git existente en un nuevo directorio.\n",
    "\n",
    "`git add`: Agrega archivos al área de preparación (staging area) para ser incluidos en el próximo commit.\n",
    "\n",
    "`git commit`: Registra los cambios en el repositorio, creando un nuevo commit.\n",
    "\n",
    "`git status`: Muestra el estado actual del repositorio, incluidos los archivos modificados, agregados y sin seguimiento.\n",
    "\n",
    "`git push`: Sube los commits locales a un repositorio remoto.\n",
    "\n",
    "`git pull`: Obtiene y fusiona los cambios de un repositorio remoto en el repositorio local.\n",
    "\n",
    "### Comandos de ramificación:\n",
    "\n",
    "`git branch`: Lista, crea o elimina ramas.\n",
    "\n",
    "`git checkout`: Cambia entre ramas o restaura archivos.\n",
    "\n",
    "`git merge`: Fusiona una rama específica en la rama actual.\n",
    "\n",
    "### Comandos de historial:\n",
    "\n",
    "`git log`: Muestra el historial de commits.\n",
    "\n",
    "`git remote`: Administra repositorios remotos.\n",
    "\n",
    "`git fetch`: Obtiene los cambios del repositorio remoto sin fusionarlos.\n",
    "\n",
    "### Comandos avanzados:\n",
    "\n",
    "`git reset`: Restablece el HEAD actual a un estado específico.\n",
    "\n",
    "`git rebase`: Reorganiza la historia de los commits.\n",
    "\n",
    "`git tag`: Administra etiquetas para marcar commits específicos.\n",
    "\n",
    "### Ejemplos de uso:\n",
    "\n",
    "`git init`: Crea un nuevo repositorio Git en la carpeta actual.\n",
    "\n",
    "`git clone https://github.com/usuario/repo.git`: Clona el repositorio \"repo\" del usuario \"usuario\" en GitHub.\n",
    "\n",
    "`git add archivo.txt`: Agrega el archivo \"archivo.txt\" al área de preparación.\n",
    "\n",
    "`git commit -m \"Mensaje del commit\"`: Crea un nuevo commit con el mensaje \"Mensaje del commit\".\n",
    "\n",
    "`git status`: Muestra el estado actual del repositorio.\n",
    "\n",
    "`git push origin master`: Sube los commits locales a la rama \"master\" del repositorio remoto \"origin\".\n",
    "\n",
    "`git pull origin master`: Obtiene y fusiona los cambios de la rama \"master\" del repositorio remoto \"origin\" en la rama actual.\n",
    "\n",
    "`git branch -l`: Lista todas las ramas del repositorio.\n",
    "\n",
    "`git checkout nueva_rama`: Cambia a la rama \"nueva_rama\".\n",
    "\n",
    "`git merge rama_a_fusionar`: Fusiona la rama \"rama_a_fusionar\" en la rama actual.\n",
    "\n",
    "`git log --oneline`: Muestra el historial de commits en una sola línea.\n",
    "\n",
    "`git remote -v`: Lista los repositorios remotos y sus URLs.\n",
    "\n",
    "`git fetch origin`: Obtiene los cambios del repositorio remoto \"origin\" sin fusionarlos.\n",
    "\n",
    "`git reset HEAD~1`: Restablece el HEAD al commit anterior.\n",
    "\n",
    "`git rebase master`: Reorganiza la historia de los commits para que se basen en la rama \"master\".\n",
    "\n",
    "`git tag v1.0`: Crea una etiqueta para el commit actual con el nombre \"v1.0\".\n",
    "\n",
    "### Comandos adicionales:\n",
    "\n",
    "`git diff`: Muestra las diferencias entre dos archivos o commits.\n",
    "\n",
    "`git blame`: Muestra el autor de cada línea de un archivo.\n",
    "\n",
    "`git describe`: Muestra la etiqueta más reciente que se aplica a un commit.\n",
    "\n",
    "`git bisect`: Encuentra el commit que introdujo un cambio específico.\n"
   ]
  },
  {
   "cell_type": "markdown",
   "id": "c41083cb-7943-4572-98c5-b3e9d96a1f95",
   "metadata": {},
   "source": [
    "# GITHUB\n",
    "\n",
    "Es una plataforma de desarrollo colaborativo para alojar proyectos utilizando el sistema de control de versiones **Git**. En GitHub, los usuarios pueden subir su código, colaborar en proyectos, hacer seguimiento de problemas y tareas, y muchas otras cosas relacionadas con el desarrollo de software. Es una herramienta muy popular en la comunidad de desarrollo de software."
   ]
  },
  {
   "cell_type": "markdown",
   "id": "199f10ae-8ed9-4d2f-9849-9566cb07eb38",
   "metadata": {},
   "source": [
    "GitHub ofrece una serie de características que lo convierten en una herramienta poderosa para el desarrollo de software:\n",
    "\n",
    "**Control de versiones**: Permite realizar un seguimiento de los cambios realizados a los archivos, revertir a versiones anteriores y trabajar en diferentes ramas del proyecto.\n",
    "\n",
    "**Colaboración**: Permite trabajar en proyectos con otras personas, incluso si no se encuentran en la misma ubicación.\n",
    "\n",
    "**Gestión de código**: Permite organizar el código en proyectos y repositorios, y compartirlo con otros usuarios.\n",
    "\n",
    "**Integración con otras herramientas**: Se integra con una amplia gama de herramientas de desarrollo y gestión de proyectos.\n",
    "\n",
    "## GitHub es una herramienta gratuita para proyectos de código abierto\n",
    "\n",
    "Para proyectos privados, se ofrece una suscripción de pago con características adicionales, pero la mayoría de usuario utilizan los repositorios publicos para demostrar el trabajo que han podido realizar.\n",
    "\n",
    "A continuación, se presenta un resumen de las principales características de GitHub:\n",
    "\n",
    "**Alojamiento de repositorios**: Permite alojar repositorios Git de forma pública o privada.\n",
    "\n",
    "**Control de versiones**: Permite realizar un seguimiento de los cambios realizados a los archivos, revertir a versiones anteriores y trabajar en diferentes ramas del proyecto.\n",
    "\n",
    "**Colaboración**: Permite trabajar en proyectos con otras personas, incluso si no se encuentran en la misma ubicación.\n",
    "\n",
    "**Gestión de código**: Permite organizar el código en proyectos y repositorios, y compartirlo con otros usuarios.\n",
    "\n",
    "**Integración con otras herramientas**: Se integra con una amplia gama de herramientas de desarrollo y gestión de proyectos.\n",
    "\n",
    "**Wiki**: Permite crear una wiki para documentar el proyecto.\n",
    "\n",
    "**Issues**: Permite crear y gestionar tickets para realizar un seguimiento de los errores y las tareas.\n",
    "\n",
    "**Pull requests**: Permite solicitar cambios al código de un repositorio.\n",
    "\n",
    "**Graficos**: Permite visualizar la actividad del proyecto y las relaciones entre los colaboradores.\n",
    "\n",
    "Es una herramienta esencial para los desarrolladores de software, pero también puede ser utilizada por diseñadores, administradores de sistemas y cualquier otra persona que necesite realizar un seguimiento de los cambios realizados a los archivos."
   ]
  },
  {
   "cell_type": "markdown",
   "id": "0c22db3b-c9b2-426a-9714-93e24e3cbe5d",
   "metadata": {},
   "source": [
    "# MAGICCELLS\n",
    "\n",
    "MagicCells es una extensión para Jupyter Notebooks que permite ejecutar código en diferentes lenguajes de programación dentro de la misma celda. Esto es útil para una variedad de tareas, como:\n",
    "\n",
    "**Pruebas de código en diferentes lenguajes**: Esto permite escribir código en Python, R, JavaScript, etc., y ejecutarlo sin tener que cambiar de entorno.\n",
    "\n",
    "**Combinar diferentes lenguajes en un solo análisis**: Puede usar Python para cargar datos y limpiarlos, luego usar R para realizar análisis estadísticos y finalmente usar JavaScript para crear visualizaciones.\n",
    "\n",
    "**Enseñar programación**: La idea de usar MagicCells para crear cuadernos interactivos que permitan a los estudiantes probar diferentes lenguajes de programación de forma segura y sencilla.\n",
    "\n",
    "MagicCells es una herramienta poderosa que puede ayudar a ser más productivo y creativo con tus cuadernos Jupyter."
   ]
  },
  {
   "cell_type": "code",
   "execution_count": 6,
   "id": "14d66f3f-6012-4f82-bce3-5bb4ac5bd423",
   "metadata": {
    "tags": []
   },
   "outputs": [
    {
     "name": "stdout",
     "output_type": "stream",
     "text": [
      "24006981.ipynb\n"
     ]
    }
   ],
   "source": [
    "!ls"
   ]
  },
  {
   "cell_type": "code",
   "execution_count": 7,
   "id": "408b85fc-8264-4d1e-accb-6789d6c87743",
   "metadata": {
    "tags": []
   },
   "outputs": [
    {
     "name": "stdout",
     "output_type": "stream",
     "text": [
      "Reinitialized existing Git repository in /Users/mariomorales/Documents/U/Python/Laboratorio #1 - (Git & Github)/.git/\n"
     ]
    }
   ],
   "source": [
    "!git init"
   ]
  },
  {
   "cell_type": "code",
   "execution_count": 9,
   "id": "fcdf4509-1496-45b5-bec3-46b19e8e70c8",
   "metadata": {
    "tags": []
   },
   "outputs": [
    {
     "name": "stdout",
     "output_type": "stream",
     "text": [
      "On branch main\n",
      "\n",
      "No commits yet\n",
      "\n",
      "Untracked files:\n",
      "  (use \"git add <file>...\" to include in what will be committed)\n",
      "\t\u001b[31m.ipynb_checkpoints/\u001b[m\n",
      "\t\u001b[31m24006981.ipynb\u001b[m\n",
      "\n",
      "nothing added to commit but untracked files present (use \"git add\" to track)\n"
     ]
    }
   ],
   "source": [
    "!git status"
   ]
  },
  {
   "cell_type": "code",
   "execution_count": null,
   "id": "6ae7f4e6-72c5-42b9-8926-0695b45d9ef8",
   "metadata": {
    "tags": []
   },
   "outputs": [],
   "source": [
    "! git add ."
   ]
  },
  {
   "cell_type": "code",
   "execution_count": null,
   "id": "db735055-0bf1-4bd5-add3-90f549ac0714",
   "metadata": {
    "tags": []
   },
   "outputs": [],
   "source": [
    "! git commit -m 'ADD Investigación sobre GIT, GitHub y MagicCells'"
   ]
  },
  {
   "cell_type": "code",
   "execution_count": null,
   "id": "7d8d19bd-9f64-4a72-9311-e242c2bb513a",
   "metadata": {
    "tags": []
   },
   "outputs": [],
   "source": [
    "! git remote add origin https://github.com/6mmario/Laboratorio-1---Git-Github-.git"
   ]
  },
  {
   "cell_type": "code",
   "execution_count": null,
   "id": "47923cfd-4530-48e7-9cbc-2e12151cc821",
   "metadata": {
    "tags": []
   },
   "outputs": [],
   "source": [
    "! git push -u origin main"
   ]
  }
 ],
 "metadata": {
  "kernelspec": {
   "display_name": "Python 3 (ipykernel)",
   "language": "python",
   "name": "python3"
  },
  "language_info": {
   "codemirror_mode": {
    "name": "ipython",
    "version": 3
   },
   "file_extension": ".py",
   "mimetype": "text/x-python",
   "name": "python",
   "nbconvert_exporter": "python",
   "pygments_lexer": "ipython3",
   "version": "3.11.5"
  }
 },
 "nbformat": 4,
 "nbformat_minor": 5
}
